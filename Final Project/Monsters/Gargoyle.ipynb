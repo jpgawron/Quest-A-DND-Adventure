{
 "cells": [
  {
   "cell_type": "code",
   "execution_count": 10,
   "metadata": {},
   "outputs": [],
   "source": [
    "import random\n",
    "#stats\n",
    "#Delete later\n",
    "player_hp=50\n",
    "player_ac = 13\n",
    "player_resistancies = \"Piercing\"\n",
    "#Gargoyle Stats\n",
    "gargoyle_ac=15\n",
    "gargoyle_hp=52\n",
    "gargoyle_sp=30\n",
    "gargoyle_fl=60\n",
    "gargoyle_str=15\n",
    "gargoyle_str_mod=2\n",
    "gargoyle_dex=11\n",
    "gargoyle_dex_mod=0\n",
    "gargoyle_con=16\n",
    "gargoyle_con_mod=3\n",
    "gargoyle_int=6\n",
    "gargoyle_int_mod=-2\n",
    "gargoyle_wis=11\n",
    "gargoyle_wis_mod=0\n",
    "gargoyle_cha=7\n",
    "gargoyle_cha_mod=-2\n",
    "gargoyle_attack_hits_multi = \"The Gargoyle hits with MultiAttack!\"\n",
    "gargoyle_attack_miss = \"The Gargoyle's attack misses!\"\n",
    "\n",
    "gargoyle_turn_attack = 1 #random.randint(1,3)\n",
    "\n",
    "#MultiAttack\n",
    "def MultiAttack():\n",
    "    try:\n",
    "        player_hp=int(input(\"How much HP do ye have remaining?\\n\"))\n",
    "        player_ac = 13\n",
    "        player_resistancies = \"Piercing\"\n",
    "        gargoyle_attack_hits_multi = \"The Gargoyle hits with MultiAttack!\"\n",
    "        gargoyle_attack_miss = \"The Gargoyle's attack misses!\"\n",
    "        gargoyle_attack = random.randint(1,20)\n",
    "        if gargoyle_attack + 2>player_ac:\n",
    "            if \"piercing\" in player_resistancies and \"slashing\" in player_resistancies:\n",
    "                damage=((random.randint(1,6)+2))//2+((random.randint(1,6)+2)//2)\n",
    "                player_hp=player_hp-damage\n",
    "                print (gargoyle_attack_hits_multi, player_hp, \"HP\")\n",
    "            elif \"piercing\" in player_resistancies or \"slashing\" in player_resistancies:\n",
    "                damage=((random.randint(1,6)+2))//2+(random.randint(1,6)+2)\n",
    "                player_hp=player_hp-damage\n",
    "                print (gargoyle_attack_hits_multi, player_hp, \"HP\")\n",
    "            else:\n",
    "                damage=(random.randint(1,6)+2)+(random.randint(1,6)+2)\n",
    "                player_hp=player_hp-damage\n",
    "                print (gargoyle_attack_hits_multi, player_hp, \"HP\")\n",
    "        elif gargoyle_attack + 2<=player_ac:\n",
    "            damage = 0\n",
    "            print (gargoyle_attack_miss)\n",
    "            PlayerTurn_vs_Gargoyle()\n",
    "    except ValueError:\n",
    "        print(\"Well that's not a valid option, me friend!\")\n",
    "        GoyleTurn()\n",
    "#bite                  \n",
    "def Bite():\n",
    "    try:\n",
    "        player_hp=int(input(\"How much HP do ye have remaining?\\n\"))\n",
    "        player_ac = 13\n",
    "        player_resistancies = \"Piercing\"\n",
    "        gargoyle_attack_hits_bite = \"The Gargoyle hits with Bite!\"\n",
    "        gargoyle_attack_miss = \"The Gargoyle's attack misses!\"\n",
    "        gargoyle_attack = random.randint(1,20)\n",
    "        if gargoyle_attack + 2>player_ac:\n",
    "            if \"piercing\" in player_resistancies:\n",
    "                damage=((random.randint(1,6)+2))//2\n",
    "                player_hp=player_hp-damage\n",
    "                print (gargoyle_attack_hits_bite, player_hp, \"HP\")\n",
    "            else:\n",
    "                damage=(random.randint(1,6)+2)\n",
    "                player_hp=player_hp-damage\n",
    "                print (gargoyle_attack_hits_bite, player_hp, \"HP\")\n",
    "        elif gargoyle_attack + 2<=player_ac:\n",
    "            damage = 0\n",
    "            print (gargoyle_attack_miss)\n",
    "            PlayerTurn_vs_Gargoyle()\n",
    "    except ValueError:\n",
    "        print(\"Well that's not a valid option, me friend!\")\n",
    "        GoyleTurn()\n",
    "                  \n",
    "#claws\n",
    "def Claws():\n",
    "    try:\n",
    "        player_hp=int(input(\"How much HP do ye have remaining?\\n\"))\n",
    "        player_ac = 13\n",
    "        player_resistancies = \"Piercing\"\n",
    "        gargoyle_attack_hits_claws = \"The Gargoyle hits with Claws!\"\n",
    "        gargoyle_attack_miss = \"The Gargoyle's attack misses!\"\n",
    "        gargoyle_attack = random.randint(1,20)\n",
    "        if gargoyle_attack + 2>player_ac:\n",
    "            if \"slashing\" in player_resistancies:\n",
    "                damage=((random.randint(1,6)+2))//2\n",
    "                player_hp=player_hp-damage\n",
    "                print (gargoyle_attack_hits_claws, player_hp, \"HP\")\n",
    "            else:\n",
    "                damage=(random.randint(1,6)+2)\n",
    "                player_hp=player_hp-damage\n",
    "                print (gargoyle_attack_hits_claws, player_hp, \"HP\")\n",
    "        elif gargoyle_attack + 2<=player_ac:\n",
    "            damage = 0\n",
    "            print (gargoyle_attack_miss)\n",
    "            PlayerTurn_vs_Gargoyle()\n",
    "    except ValueError:\n",
    "        print(\"Well that's not a valid option, me friend!\")\n",
    "        GoyleTurn()"
   ]
  },
  {
   "cell_type": "code",
   "execution_count": 4,
   "metadata": {},
   "outputs": [
    {
     "name": "stdout",
     "output_type": "stream",
     "text": [
      "The Gargoyle's attack misses!\n"
     ]
    }
   ],
   "source": [
    "result=MultiAttack()"
   ]
  },
  {
   "cell_type": "code",
   "execution_count": 5,
   "metadata": {},
   "outputs": [],
   "source": [
    "result=Bite()"
   ]
  },
  {
   "cell_type": "code",
   "execution_count": 6,
   "metadata": {},
   "outputs": [
    {
     "name": "stdout",
     "output_type": "stream",
     "text": [
      "The Gargoyle's attack misses!\n"
     ]
    }
   ],
   "source": [
    "result=Claws()"
   ]
  },
  {
   "cell_type": "code",
   "execution_count": 7,
   "metadata": {},
   "outputs": [],
   "source": [
    "#Sometimes nothing happens at all"
   ]
  },
  {
   "cell_type": "code",
   "execution_count": 15,
   "metadata": {},
   "outputs": [],
   "source": [
    "def GoyleTurn():\n",
    "    player_attacknum=0\n",
    "    goyle_attacknum=0\n",
    "    gargoyle_turn_attack = random.randint(1,3)\n",
    "    if gargoyle_turn_attack == 1:\n",
    "        result=MultiAttack()\n",
    "        goyle_attacknum=goyle_attacknum+1\n",
    "        #if goyle_attacknum >= player_attacknum:\n",
    "            #PlayerTurn_vs_Gargoyle()\n",
    "    if gargoyle_turn_attack == 2:\n",
    "        result=Bite()\n",
    "        goyle_attacknum=goyle_attacknum+1\n",
    "       # if goyle_attacknum >= player_attacknum:\n",
    "            #PlayerTurn_vs_Gargoyle()\n",
    "    if gargoyle_turn_attack == 3:\n",
    "        result=Claws()\n",
    "        goyle_attacknum=goyle_attacknum+1\n",
    "        #if goyle_attacknum >= player_attacknum:\n",
    "            #PlayerTurn_vs_Gargoyle()"
   ]
  },
  {
   "cell_type": "code",
   "execution_count": 17,
   "metadata": {},
   "outputs": [
    {
     "name": "stdout",
     "output_type": "stream",
     "text": [
      "Well that's not a valid option, me friend!\n"
     ]
    }
   ],
   "source": [
    "result=GoyleTurn()"
   ]
  },
  {
   "cell_type": "code",
   "execution_count": null,
   "metadata": {},
   "outputs": [],
   "source": []
  }
 ],
 "metadata": {
  "kernelspec": {
   "display_name": "Python 3",
   "language": "python",
   "name": "python3"
  },
  "language_info": {
   "codemirror_mode": {
    "name": "ipython",
    "version": 3
   },
   "file_extension": ".py",
   "mimetype": "text/x-python",
   "name": "python",
   "nbconvert_exporter": "python",
   "pygments_lexer": "ipython3",
   "version": "3.6.5"
  }
 },
 "nbformat": 4,
 "nbformat_minor": 2
}
